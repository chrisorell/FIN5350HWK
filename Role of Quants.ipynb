{
 "cells": [
  {
   "cell_type": "markdown",
   "metadata": {},
   "source": [
    "# Role of Quants\n",
    "\n",
    "After a semester of learning how to price options and the role that computational models play in making decisions in finance markets I have begun to understand the role that quantitative finance professionals play and the impact their models have. Buchanan in General Implications of Subjectivism in Economics is blunt when he says the economics should not focus on “maximization of objection functions” and that economists worry too much about utility functions. \n",
    "\n",
    "Although this essay was written over 41 years ago the main topic of this essay is still relevant in today’s financial markets which rely on quantitative finance a new breed of computational economists. I hope to share both stories of success and failures when creating and applying models in order to better understand the role of quantitative finance professionals by highlighting 4 key topics that will help address the role quantitative finance has:\n",
    "\n",
    "* Ethics and communication\n",
    "* Successful applications of models (Orange Juice and Weather)\n",
    "* Unsuccessful applications of models (The Parable of Google Flu: Traps in Big Data Analysis)\n",
    "* The future of quants\n",
    "\n",
    "### ETHICS AND COMMUNICATION\n",
    "\n",
    "Quantitative finance professionals or quants focus is on mathematical principles and the results that their models obtain. Because their sole focus is on these models often fail to see a bigger picture, one that involves them and their role and impact in the financial sector. Today in age financial markets are subject to numerous regulations and various codes of ethics. Many players in these markets like traders must abide and comply by these regulations to stay in the game, but quantitative finance professionals on the other hand can create models without worrying about codes of ethics and any implications they may have. This allows them to zealously focus on creating incredibly successful models that can prove to generate great amounts of revenue for companies. But as West mentions he believes there is a possibility that this focus on models that worry about maximizing profits lead to a failure in predicting a downturn in the market like in the recent financial crisis (West 31). \n",
    "\n",
    "I think this is what Buchanan means when there is too much focus on models and utility functions that maximize profits but don’t consider the overall market. If these quantitative finance professionals as West suggests were to have a course on ethics it would be easier for quants to take step back and improve their models by not only considering how to maximize profits and measure internal risk but also include the market and find new opportunities that previously didn’t exist in their models. Although I have limited knowledge on the subject I think that models have yet to reach a point where they can include spontaneous order. But if a model were able to identify unique phenomenon’s like arbitrage opportunities in entrepreneurship and potential crashes in a market companies could produce unforeseen returns and know when to invest and when to sell. \n",
    "\n",
    "### SUCCESSFUL APPLICATIONS OF MODELS\n",
    "\n",
    "It is important to understand both internal and external factor when creating models. An academic paper that exemplifies this is Orange Juice and Weather. Richard Roll uses statistical analysis and is able determine that the biggest influencer in orange juice price is weather, even after taking newspaper articles, currency exchanges, and the stock market into account, and even with his thorough analysis there are still factors that affect price that can’t be explained. The most interesting point is the future prices let them predict the weather more accurately than weathermen. \n",
    "\n",
    "This paper highlights how quantitative finance professionals should approach their role. A quantitative finance professional or economist should focus on a myriad of factors both internal and external that may affect how a model acts and may create a more accurate representation of the future price. The approach that Roll takes by explaining all sources on information and his transparency with his results lead to a strong conclusion. If the world of quantitative finance approached their models by understanding their input and how it could change the outcome of the model, then they could better learn how to best adopt new information so that they can make conclusions which are drawn from their models more accurate. \n",
    "\n",
    "### UNSUCCESSFUL APPLICATIONS OF MODELS\n",
    "\n",
    "In an effort to help healthcare providers better estimate and prepare for influenza, Google created Google Flu Trends with the purpose of predicting future outbreaks of influenza. With this noble goal Google set out and created a model that used 50 million search terms to fit 1152 data points (Lazer 2). They used key search terms to track and analyze data that was created through the model. One of the biggest problems that they ran into with the model was that the researchers tried to overfit the data they collected thus creating more positives than what the CDC had observed. The model that the developers of Google Flu Trends created wasn’t able to create accurate flu prediction “it was part flu detector, part winter detector” (citation 2). Google Flu Trends overestimated the prevalence of flu in 2012 - 2013 100 out of 108 weeks (Lazer 7). \n",
    "\n",
    "The example of Google Flu Trends is a great lesson to all finance professionals of what not to do when creating their models. They must understand where the data they receive is coming from and how the context of the data can affect the outcome of the results produced by the model. Finance professionals who are constantly gathering data need to spend time in assuring the quality of their data. One of the most important terms I have learned is garbage in, garbage out (GIGO) meaning if the data you use in modeling isn’t relevant or insightful then you can’t expect for results to be great. Data is the backbone of all models and without it models wouldn’t be as powerful as they are, but overfitting data for models could limit any model’s potential and take away from its predictive ability. Overfitting would be especially dangerous in the world of quantitative finance because if quants are only concerned with churning out models with predictions that didn’t also address potential risk then it could lead to exaggerated losses when the markets don’t act how the models predict they will.\n",
    "\n",
    "### THE FUTURE OF QUANTS\n",
    "\n",
    "Quantitative finance has quickly grown and with it so has the adoption of math, stats, technology and calculus that is used with increased complexity to create accurate models. Finance will continue to seek new ways to find points of arbitrage and create untapped sources of revenue. The future of computation finance is hard to predict because of constant innovation, but I think that their models will eventually be able to handle spontaneous order. By modeling spontaneous order, they would be able to make models that not only points of arbitrage that are readily apparent but also see when an opportunity to arbitrage might occur. By creating models with a capacity to account for the unknown they could also take out some of the rigidity that currently exists in current models. Most importantly they should also understand the limitations of even the best models. Dr. Brough made an excellent comparison between models and maps, by understanding that even the most detailed map will never be an exact model of any road, likewise models are limited to how well their predictions can simulate the real world, and that these should be used to help guide us but not completely lead us. \n",
    "\n",
    "## CONCLUSION\n",
    "\n",
    "Quantitative finance is an area that is constantly seeking to reinvent itself to create greater returns on profit. As it continues to grow quants should always keep in mind the impact that the models they are creating can have. The success of their models is also determined by the data that goes into them, so they must always be cautionary and question how the data will affect it. In the age of big data where information is easy to come by quantitative analysts need to take caution by seeing that not all data is helpful and that not all data can be turned into knowledge. As models become more commonplace new and better methods will continue to emerge that improve upon what already exists, but they will never be able to create an exact replica of the world to a tee.\n",
    "\n",
    "### SOURCES:\n",
    "\n",
    "* West, Jason. Money Mathematics: Examining Ethics Education in Quantitative Finance. Journal of Business Ethics Education: 25-40. \n",
    "* Roll, Richard. Orange Juice and Weather. The American Economic Review 74.5 (1984): 861-880.\n",
    "* Lazer, David, et al. The Parable of Google Flu: Traps in Big Data. 1-7.  \n",
    "\n"
   ]
  },
  {
   "cell_type": "code",
   "execution_count": null,
   "metadata": {
    "collapsed": true
   },
   "outputs": [],
   "source": []
  }
 ],
 "metadata": {
  "kernelspec": {
   "display_name": "Python 3",
   "language": "python",
   "name": "python3"
  },
  "language_info": {
   "codemirror_mode": {
    "name": "ipython",
    "version": 3
   },
   "file_extension": ".py",
   "mimetype": "text/x-python",
   "name": "python",
   "nbconvert_exporter": "python",
   "pygments_lexer": "ipython3",
   "version": "3.6.3"
  }
 },
 "nbformat": 4,
 "nbformat_minor": 2
}
